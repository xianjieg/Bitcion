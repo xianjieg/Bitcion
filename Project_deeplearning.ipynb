{
 "cells": [
  {
   "cell_type": "code",
   "execution_count": 1,
   "metadata": {},
   "outputs": [],
   "source": [
    "import numpy as np\n",
    "import matplotlib.pyplot as plt\n",
    "import pandas as pd\n",
    "from sklearn.preprocessing import MinMaxScaler\n",
    "\n",
    "plt.style.use(\"ggplot\")\n",
    "\n",
    "from keras.models import Sequential\n",
    "from keras.layers import LSTM, Dense, Dropout"
   ]
  },
  {
   "cell_type": "code",
   "execution_count": 2,
   "metadata": {},
   "outputs": [],
   "source": [
    "# Loading/Reading in the Data\n",
    "df = pd.read_csv(\"C:/Users/Win10/Downloads/BTC-USD.csv\")"
   ]
  },
  {
   "cell_type": "code",
   "execution_count": 17,
   "metadata": {},
   "outputs": [
    {
     "data": {
      "text/html": [
       "<div>\n",
       "<style scoped>\n",
       "    .dataframe tbody tr th:only-of-type {\n",
       "        vertical-align: middle;\n",
       "    }\n",
       "\n",
       "    .dataframe tbody tr th {\n",
       "        vertical-align: top;\n",
       "    }\n",
       "\n",
       "    .dataframe thead th {\n",
       "        text-align: right;\n",
       "    }\n",
       "</style>\n",
       "<table border=\"1\" class=\"dataframe\">\n",
       "  <thead>\n",
       "    <tr style=\"text-align: right;\">\n",
       "      <th></th>\n",
       "      <th>Close</th>\n",
       "    </tr>\n",
       "    <tr>\n",
       "      <th>Date</th>\n",
       "      <th></th>\n",
       "    </tr>\n",
       "  </thead>\n",
       "  <tbody>\n",
       "    <tr>\n",
       "      <th>2020-06-18</th>\n",
       "      <td>0.006729</td>\n",
       "    </tr>\n",
       "    <tr>\n",
       "      <th>2020-06-19</th>\n",
       "      <td>0.004455</td>\n",
       "    </tr>\n",
       "    <tr>\n",
       "      <th>2020-06-20</th>\n",
       "      <td>0.005269</td>\n",
       "    </tr>\n",
       "    <tr>\n",
       "      <th>2020-06-21</th>\n",
       "      <td>0.004742</td>\n",
       "    </tr>\n",
       "    <tr>\n",
       "      <th>2020-06-22</th>\n",
       "      <td>0.011079</td>\n",
       "    </tr>\n",
       "  </tbody>\n",
       "</table>\n",
       "</div>"
      ],
      "text/plain": [
       "               Close\n",
       "Date                \n",
       "2020-06-18  0.006729\n",
       "2020-06-19  0.004455\n",
       "2020-06-20  0.005269\n",
       "2020-06-21  0.004742\n",
       "2020-06-22  0.011079"
      ]
     },
     "execution_count": 17,
     "metadata": {},
     "output_type": "execute_result"
    }
   ],
   "source": [
    "df.head()"
   ]
  },
  {
   "cell_type": "code",
   "execution_count": 3,
   "metadata": {},
   "outputs": [],
   "source": [
    "# Data Preprocessing\n",
    "### Setting the datetime index as the date, only selecting the 'Close' column,\n",
    "### then only the last 1000 closing prices.\n",
    "df = df.set_index(\"Date\")[['Close']].tail(1000)\n",
    "df = df.set_index(pd.to_datetime(df.index))\n",
    "\n",
    "# Normalizing/Scaling the Data -- MinMaxScaler = Max and Min is scaled to 1, 0\n",
    "scaler = MinMaxScaler()\n",
    "df = pd.DataFrame(scaler.fit_transform(df), columns=df.columns, index=df.index)"
   ]
  },
  {
   "cell_type": "code",
   "execution_count": 4,
   "metadata": {},
   "outputs": [],
   "source": [
    "# Can check training progress/results of our Neural Network\n",
    "def visualize_training_results(results):\n",
    "    \"\"\"\n",
    "    Plots the loss and accuracy for the training and testing data\n",
    "    \"\"\"\n",
    "    history = results.history\n",
    "    plt.figure(figsize=(12, 4))\n",
    "    plt.plot(history['val_loss'])\n",
    "    plt.plot(history['loss'])\n",
    "    plt.legend(['val_loss', 'loss'])\n",
    "    plt.title('Loss')\n",
    "    plt.xlabel('Epochs')\n",
    "    plt.ylabel('Loss')\n",
    "    plt.show()\n",
    "\n",
    "    plt.figure(figsize=(12, 4))\n",
    "    plt.plot(history['val_accuracy'])\n",
    "    plt.plot(history['accuracy'])\n",
    "    plt.legend(['val_accuracy', 'accuracy'])\n",
    "    plt.title('Accuracy')\n",
    "    plt.xlabel('Epochs')\n",
    "    plt.ylabel('Accuracy')\n",
    "    plt.show()"
   ]
  },
  {
   "cell_type": "code",
   "execution_count": 5,
   "metadata": {},
   "outputs": [],
   "source": [
    "#X and y are the input and output variables of neural network\n",
    "#Input: # of periods to look back -> used to figure out the patterns and sequences that leads to output periods\n",
    "#Output: # of periods ahead\n",
    "def split_sequence(seq, n_steps_in, n_steps_out):\n",
    "    \"\"\"\n",
    "    Splits the univariate time sequence\n",
    "    \"\"\"\n",
    "    X, y = [], []\n",
    "\n",
    "    for i in range(len(seq)):\n",
    "        end = i + n_steps_in\n",
    "        out_end = end + n_steps_out\n",
    "\n",
    "        if out_end > len(seq):\n",
    "            break\n",
    "\n",
    "        seq_x, seq_y = seq[i:end], seq[end:out_end]\n",
    "\n",
    "        X.append(seq_x)\n",
    "        y.append(seq_y)\n",
    "\n",
    "    return np.array(X), np.array(y)"
   ]
  },
  {
   "cell_type": "code",
   "execution_count": 6,
   "metadata": {},
   "outputs": [],
   "source": [
    "def layer_maker(n_layers, n_nodes, activation, drop=None, d_rate=.5):\n",
    "    \"\"\"\n",
    "    Create a specified number of hidden layers for an RNN\n",
    "    Optional: Adds regularization option, dropout layer to prevent potential overfitting if necessary\n",
    "    \"\"\"\n",
    "\n",
    "    # Creating the specified number of hidden layers with the specified number of nodes\n",
    "    for x in range(1, n_layers + 1):\n",
    "        model.add(LSTM(n_nodes, activation=activation, return_sequences=True))\n",
    "\n",
    "        # Adds a Dropout layer after every Nth hidden layer (the 'drop' variable)\n",
    "        try:\n",
    "            if x % drop == 0:\n",
    "                model.add(Dropout(d_rate))\n",
    "        except:\n",
    "            pass"
   ]
  },
  {
   "cell_type": "code",
   "execution_count": 7,
   "metadata": {},
   "outputs": [],
   "source": [
    "# Implement the split_sequence() to the BTC-USD.csv data\n",
    "# How many periods looking back to train\n",
    "n_per_in  = 30  # look back 30 days\n",
    "\n",
    "# How many periods ahead to predict\n",
    "n_per_out = 10  # to predict next 10 days\n",
    "\n",
    "# Features (in this case it's 1 because there is only one feature: price)\n",
    "n_features = 1\n",
    "\n",
    "# Splitting the data into appropriate sequences\n",
    "X, y = split_sequence(list(df.Close), n_per_in, n_per_out)\n",
    "\n",
    "# Reshaping the X variable from 2D to 3D\n",
    "X = X.reshape((X.shape[0], X.shape[1], n_features))"
   ]
  },
  {
   "cell_type": "code",
   "execution_count": 8,
   "metadata": {},
   "outputs": [
    {
     "name": "stdout",
     "output_type": "stream",
     "text": [
      "Model: \"sequential\"\n",
      "_________________________________________________________________\n",
      "Layer (type)                 Output Shape              Param #   \n",
      "=================================================================\n",
      "lstm (LSTM)                  (None, 30, 30)            3840      \n",
      "_________________________________________________________________\n",
      "lstm_1 (LSTM)                (None, 30, 12)            2064      \n",
      "_________________________________________________________________\n",
      "lstm_2 (LSTM)                (None, 30, 12)            1200      \n",
      "_________________________________________________________________\n",
      "lstm_3 (LSTM)                (None, 30, 12)            1200      \n",
      "_________________________________________________________________\n",
      "lstm_4 (LSTM)                (None, 30, 12)            1200      \n",
      "_________________________________________________________________\n",
      "lstm_5 (LSTM)                (None, 30, 12)            1200      \n",
      "_________________________________________________________________\n",
      "lstm_6 (LSTM)                (None, 30, 12)            1200      \n",
      "_________________________________________________________________\n",
      "lstm_7 (LSTM)                (None, 10)                920       \n",
      "_________________________________________________________________\n",
      "dense (Dense)                (None, 10)                110       \n",
      "=================================================================\n",
      "Total params: 12,934\n",
      "Trainable params: 12,934\n",
      "Non-trainable params: 0\n",
      "_________________________________________________________________\n"
     ]
    }
   ],
   "source": [
    "# Instantiating the model\n",
    "model = Sequential()\n",
    "\n",
    "# Activation\n",
    "activ = \"softsign\"\n",
    "\n",
    "# Input layer\n",
    "model.add(LSTM(30, activation=activ, return_sequences=True, input_shape=(n_per_in, n_features)))\n",
    "\n",
    "# Hidden layers\n",
    "layer_maker(n_layers=6, n_nodes=12, activation=activ)\n",
    "\n",
    "# Final Hidden layer\n",
    "model.add(LSTM(10, activation=activ))\n",
    "\n",
    "# Output layer\n",
    "model.add(Dense(n_per_out))\n",
    "\n",
    "# Model summary\n",
    "model.summary()"
   ]
  },
  {
   "cell_type": "code",
   "execution_count": 16,
   "metadata": {},
   "outputs": [
    {
     "name": "stdout",
     "output_type": "stream",
     "text": [
      "Epoch 1/800\n",
      "10/10 [==============================] - 9s 152ms/step - loss: nan - accuracy: 0.0920 - val_loss: nan - val_accuracy: 0.3333\n",
      "Epoch 2/800\n",
      "10/10 [==============================] - 0s 34ms/step - loss: nan - accuracy: 0.0968 - val_loss: nan - val_accuracy: 0.3333\n",
      "Epoch 3/800\n",
      "10/10 [==============================] - 0s 34ms/step - loss: nan - accuracy: 0.1161 - val_loss: nan - val_accuracy: 0.3333\n",
      "Epoch 4/800\n",
      "10/10 [==============================] - 0s 33ms/step - loss: nan - accuracy: 0.1137 - val_loss: nan - val_accuracy: 0.3333\n",
      "Epoch 5/800\n",
      "10/10 [==============================] - 0s 34ms/step - loss: nan - accuracy: 0.1157 - val_loss: nan - val_accuracy: 0.3333\n",
      "Epoch 6/800\n",
      "10/10 [==============================] - 0s 33ms/step - loss: nan - accuracy: 0.1197 - val_loss: nan - val_accuracy: 0.3333\n",
      "Epoch 7/800\n",
      "10/10 [==============================] - 0s 35ms/step - loss: nan - accuracy: 0.1083 - val_loss: nan - val_accuracy: 0.3333\n",
      "Epoch 8/800\n",
      "10/10 [==============================] - 0s 35ms/step - loss: nan - accuracy: 0.1083 - val_loss: nan - val_accuracy: 0.3333\n",
      "Epoch 9/800\n",
      "10/10 [==============================] - 0s 33ms/step - loss: nan - accuracy: 0.1074 - val_loss: nan - val_accuracy: 0.3333\n",
      "Epoch 10/800\n",
      "10/10 [==============================] - 0s 35ms/step - loss: nan - accuracy: 0.1123 - val_loss: nan - val_accuracy: 0.3333\n",
      "Epoch 11/800\n",
      "10/10 [==============================] - 0s 33ms/step - loss: nan - accuracy: 0.0946 - val_loss: nan - val_accuracy: 0.3333\n",
      "Epoch 12/800\n",
      "10/10 [==============================] - 0s 34ms/step - loss: nan - accuracy: 0.0893 - val_loss: nan - val_accuracy: 0.3333\n",
      "Epoch 13/800\n",
      "10/10 [==============================] - 0s 33ms/step - loss: nan - accuracy: 0.0974 - val_loss: nan - val_accuracy: 0.3333\n",
      "Epoch 14/800\n",
      "10/10 [==============================] - 0s 33ms/step - loss: nan - accuracy: 0.1293 - val_loss: nan - val_accuracy: 0.3333\n",
      "Epoch 15/800\n",
      "10/10 [==============================] - 0s 33ms/step - loss: nan - accuracy: 0.1127 - val_loss: nan - val_accuracy: 0.3333\n",
      "Epoch 16/800\n",
      "10/10 [==============================] - 0s 34ms/step - loss: nan - accuracy: 0.1003 - val_loss: nan - val_accuracy: 0.3333\n",
      "Epoch 17/800\n",
      "10/10 [==============================] - 0s 33ms/step - loss: nan - accuracy: 0.0797 - val_loss: nan - val_accuracy: 0.3333\n",
      "Epoch 18/800\n",
      "10/10 [==============================] - 0s 33ms/step - loss: nan - accuracy: 0.0952 - val_loss: nan - val_accuracy: 0.3333\n",
      "Epoch 19/800\n",
      "10/10 [==============================] - 0s 34ms/step - loss: nan - accuracy: 0.0969 - val_loss: nan - val_accuracy: 0.3333\n",
      "Epoch 20/800\n",
      "10/10 [==============================] - 0s 33ms/step - loss: nan - accuracy: 0.1021 - val_loss: nan - val_accuracy: 0.3333\n",
      "Epoch 21/800\n",
      "10/10 [==============================] - 0s 33ms/step - loss: nan - accuracy: 0.1025 - val_loss: nan - val_accuracy: 0.3333\n",
      "Epoch 22/800\n",
      "10/10 [==============================] - 0s 34ms/step - loss: nan - accuracy: 0.0968 - val_loss: nan - val_accuracy: 0.3333\n",
      "Epoch 23/800\n",
      "10/10 [==============================] - 0s 34ms/step - loss: nan - accuracy: 0.1247 - val_loss: nan - val_accuracy: 0.3333\n",
      "Epoch 24/800\n",
      "10/10 [==============================] - 0s 34ms/step - loss: nan - accuracy: 0.1148 - val_loss: nan - val_accuracy: 0.3333\n",
      "Epoch 25/800\n",
      "10/10 [==============================] - 0s 34ms/step - loss: nan - accuracy: 0.0848 - val_loss: nan - val_accuracy: 0.3333\n",
      "Epoch 26/800\n",
      "10/10 [==============================] - 0s 37ms/step - loss: nan - accuracy: 0.1084 - val_loss: nan - val_accuracy: 0.3333\n",
      "Epoch 27/800\n",
      "10/10 [==============================] - 0s 34ms/step - loss: nan - accuracy: 0.1066 - val_loss: nan - val_accuracy: 0.3333\n",
      "Epoch 28/800\n",
      "10/10 [==============================] - 0s 34ms/step - loss: nan - accuracy: 0.1000 - val_loss: nan - val_accuracy: 0.3333\n",
      "Epoch 29/800\n",
      "10/10 [==============================] - 0s 34ms/step - loss: nan - accuracy: 0.0936 - val_loss: nan - val_accuracy: 0.3333\n",
      "Epoch 30/800\n",
      "10/10 [==============================] - 0s 33ms/step - loss: nan - accuracy: 0.1082 - val_loss: nan - val_accuracy: 0.3333\n",
      "Epoch 31/800\n",
      "10/10 [==============================] - 0s 34ms/step - loss: nan - accuracy: 0.0972 - val_loss: nan - val_accuracy: 0.3333\n",
      "Epoch 32/800\n",
      "10/10 [==============================] - 0s 33ms/step - loss: nan - accuracy: 0.0995 - val_loss: nan - val_accuracy: 0.3333\n",
      "Epoch 33/800\n",
      "10/10 [==============================] - 0s 33ms/step - loss: nan - accuracy: 0.1135 - val_loss: nan - val_accuracy: 0.3333\n",
      "Epoch 34/800\n",
      "10/10 [==============================] - 0s 33ms/step - loss: nan - accuracy: 0.0904 - val_loss: nan - val_accuracy: 0.3333\n",
      "Epoch 35/800\n",
      "10/10 [==============================] - 0s 34ms/step - loss: nan - accuracy: 0.1158 - val_loss: nan - val_accuracy: 0.3333\n",
      "Epoch 36/800\n",
      "10/10 [==============================] - 0s 33ms/step - loss: nan - accuracy: 0.1023 - val_loss: nan - val_accuracy: 0.3333\n",
      "Epoch 37/800\n",
      "10/10 [==============================] - 0s 34ms/step - loss: nan - accuracy: 0.0930 - val_loss: nan - val_accuracy: 0.3333\n",
      "Epoch 38/800\n",
      "10/10 [==============================] - 0s 34ms/step - loss: nan - accuracy: 0.1007 - val_loss: nan - val_accuracy: 0.3333\n",
      "Epoch 39/800\n",
      "10/10 [==============================] - 0s 36ms/step - loss: nan - accuracy: 0.0835 - val_loss: nan - val_accuracy: 0.3333\n",
      "Epoch 40/800\n",
      "10/10 [==============================] - 0s 37ms/step - loss: nan - accuracy: 0.1003 - val_loss: nan - val_accuracy: 0.3333\n",
      "Epoch 41/800\n",
      "10/10 [==============================] - 0s 33ms/step - loss: nan - accuracy: 0.0984 - val_loss: nan - val_accuracy: 0.3333\n",
      "Epoch 42/800\n",
      "10/10 [==============================] - 0s 36ms/step - loss: nan - accuracy: 0.0934 - val_loss: nan - val_accuracy: 0.3333\n",
      "Epoch 43/800\n",
      "10/10 [==============================] - 0s 33ms/step - loss: nan - accuracy: 0.0972 - val_loss: nan - val_accuracy: 0.3333\n",
      "Epoch 44/800\n",
      "10/10 [==============================] - 0s 33ms/step - loss: nan - accuracy: 0.0851 - val_loss: nan - val_accuracy: 0.3333\n",
      "Epoch 45/800\n",
      "10/10 [==============================] - 0s 34ms/step - loss: nan - accuracy: 0.1080 - val_loss: nan - val_accuracy: 0.3333\n",
      "Epoch 46/800\n",
      "10/10 [==============================] - 0s 33ms/step - loss: nan - accuracy: 0.0878 - val_loss: nan - val_accuracy: 0.3333\n",
      "Epoch 47/800\n",
      "10/10 [==============================] - 0s 33ms/step - loss: nan - accuracy: 0.0842 - val_loss: nan - val_accuracy: 0.3333\n",
      "Epoch 48/800\n",
      "10/10 [==============================] - 0s 33ms/step - loss: nan - accuracy: 0.1081 - val_loss: nan - val_accuracy: 0.3333\n",
      "Epoch 49/800\n",
      "10/10 [==============================] - 0s 37ms/step - loss: nan - accuracy: 0.0968 - val_loss: nan - val_accuracy: 0.3333\n",
      "Epoch 50/800\n",
      "10/10 [==============================] - 0s 37ms/step - loss: nan - accuracy: 0.0969 - val_loss: nan - val_accuracy: 0.3333\n",
      "Epoch 51/800\n",
      "10/10 [==============================] - 0s 35ms/step - loss: nan - accuracy: 0.0951 - val_loss: nan - val_accuracy: 0.3333\n",
      "Epoch 52/800\n",
      "10/10 [==============================] - 0s 34ms/step - loss: nan - accuracy: 0.1095 - val_loss: nan - val_accuracy: 0.3333\n",
      "Epoch 53/800\n",
      "10/10 [==============================] - 0s 34ms/step - loss: nan - accuracy: 0.1031 - val_loss: nan - val_accuracy: 0.3333\n",
      "Epoch 54/800\n",
      "10/10 [==============================] - 0s 33ms/step - loss: nan - accuracy: 0.0949 - val_loss: nan - val_accuracy: 0.3333\n",
      "Epoch 55/800\n",
      "10/10 [==============================] - 0s 33ms/step - loss: nan - accuracy: 0.1163 - val_loss: nan - val_accuracy: 0.3333\n",
      "Epoch 56/800\n",
      "10/10 [==============================] - 0s 33ms/step - loss: nan - accuracy: 0.1075 - val_loss: nan - val_accuracy: 0.3333\n",
      "Epoch 57/800\n",
      "10/10 [==============================] - 0s 33ms/step - loss: nan - accuracy: 0.0937 - val_loss: nan - val_accuracy: 0.3333\n",
      "Epoch 58/800\n",
      "10/10 [==============================] - 0s 33ms/step - loss: nan - accuracy: 0.0938 - val_loss: nan - val_accuracy: 0.3333\n",
      "Epoch 59/800\n",
      "10/10 [==============================] - 0s 35ms/step - loss: nan - accuracy: 0.0961 - val_loss: nan - val_accuracy: 0.3333\n",
      "Epoch 60/800\n",
      "10/10 [==============================] - 0s 34ms/step - loss: nan - accuracy: 0.0892 - val_loss: nan - val_accuracy: 0.3333\n"
     ]
    },
    {
     "name": "stdout",
     "output_type": "stream",
     "text": [
      "Epoch 61/800\n",
      "10/10 [==============================] - 0s 33ms/step - loss: nan - accuracy: 0.0820 - val_loss: nan - val_accuracy: 0.3333\n",
      "Epoch 62/800\n",
      "10/10 [==============================] - 0s 33ms/step - loss: nan - accuracy: 0.1116 - val_loss: nan - val_accuracy: 0.3333\n",
      "Epoch 63/800\n",
      "10/10 [==============================] - 0s 33ms/step - loss: nan - accuracy: 0.0940 - val_loss: nan - val_accuracy: 0.3333\n",
      "Epoch 64/800\n",
      "10/10 [==============================] - 0s 34ms/step - loss: nan - accuracy: 0.1143 - val_loss: nan - val_accuracy: 0.3333\n",
      "Epoch 65/800\n",
      "10/10 [==============================] - 0s 34ms/step - loss: nan - accuracy: 0.1005 - val_loss: nan - val_accuracy: 0.3333\n",
      "Epoch 66/800\n",
      "10/10 [==============================] - 0s 33ms/step - loss: nan - accuracy: 0.0997 - val_loss: nan - val_accuracy: 0.3333\n",
      "Epoch 67/800\n",
      "10/10 [==============================] - 0s 33ms/step - loss: nan - accuracy: 0.0935 - val_loss: nan - val_accuracy: 0.3333\n",
      "Epoch 68/800\n",
      "10/10 [==============================] - 0s 34ms/step - loss: nan - accuracy: 0.0990 - val_loss: nan - val_accuracy: 0.3333\n",
      "Epoch 69/800\n",
      "10/10 [==============================] - 0s 34ms/step - loss: nan - accuracy: 0.1073 - val_loss: nan - val_accuracy: 0.3333\n",
      "Epoch 70/800\n",
      "10/10 [==============================] - 0s 33ms/step - loss: nan - accuracy: 0.0846 - val_loss: nan - val_accuracy: 0.3333\n",
      "Epoch 71/800\n",
      "10/10 [==============================] - 0s 33ms/step - loss: nan - accuracy: 0.0979 - val_loss: nan - val_accuracy: 0.3333\n",
      "Epoch 72/800\n",
      "10/10 [==============================] - 0s 34ms/step - loss: nan - accuracy: 0.0974 - val_loss: nan - val_accuracy: 0.3333\n",
      "Epoch 73/800\n",
      "10/10 [==============================] - 0s 34ms/step - loss: nan - accuracy: 0.1215 - val_loss: nan - val_accuracy: 0.3333\n",
      "Epoch 74/800\n",
      "10/10 [==============================] - 0s 34ms/step - loss: nan - accuracy: 0.0993 - val_loss: nan - val_accuracy: 0.3333\n",
      "Epoch 75/800\n",
      "10/10 [==============================] - 0s 35ms/step - loss: nan - accuracy: 0.0771 - val_loss: nan - val_accuracy: 0.3333\n",
      "Epoch 76/800\n",
      "10/10 [==============================] - 0s 34ms/step - loss: nan - accuracy: 0.1040 - val_loss: nan - val_accuracy: 0.3333\n",
      "Epoch 77/800\n",
      " 5/10 [==============>...............] - ETA: 0s - loss: nan - accuracy: 0.0679"
     ]
    },
    {
     "ename": "KeyboardInterrupt",
     "evalue": "",
     "output_type": "error",
     "traceback": [
      "\u001b[1;31m---------------------------------------------------------------------------\u001b[0m",
      "\u001b[1;31mKeyboardInterrupt\u001b[0m                         Traceback (most recent call last)",
      "\u001b[1;32m<ipython-input-16-79373ee4186a>\u001b[0m in \u001b[0;36m<module>\u001b[1;34m\u001b[0m\n\u001b[0;32m      1\u001b[0m \u001b[0mmodel\u001b[0m\u001b[1;33m.\u001b[0m\u001b[0mcompile\u001b[0m\u001b[1;33m(\u001b[0m\u001b[0moptimizer\u001b[0m \u001b[1;33m=\u001b[0m \u001b[1;34m'Adam'\u001b[0m\u001b[1;33m,\u001b[0m \u001b[0mloss\u001b[0m \u001b[1;33m=\u001b[0m \u001b[1;34m'mae'\u001b[0m\u001b[1;33m,\u001b[0m \u001b[0mmetrics\u001b[0m \u001b[1;33m=\u001b[0m \u001b[1;33m[\u001b[0m\u001b[1;34m'accuracy'\u001b[0m\u001b[1;33m]\u001b[0m\u001b[1;33m)\u001b[0m\u001b[1;33m\u001b[0m\u001b[1;33m\u001b[0m\u001b[0m\n\u001b[1;32m----> 2\u001b[1;33m \u001b[0mres\u001b[0m \u001b[1;33m=\u001b[0m \u001b[0mmodel\u001b[0m\u001b[1;33m.\u001b[0m\u001b[0mfit\u001b[0m\u001b[1;33m(\u001b[0m\u001b[0mX\u001b[0m\u001b[1;33m,\u001b[0m \u001b[0my\u001b[0m\u001b[1;33m,\u001b[0m \u001b[0mepochs\u001b[0m\u001b[1;33m=\u001b[0m\u001b[1;36m800\u001b[0m\u001b[1;33m,\u001b[0m \u001b[0mbatch_size\u001b[0m\u001b[1;33m=\u001b[0m\u001b[1;36m32\u001b[0m\u001b[1;33m,\u001b[0m \u001b[0mvalidation_split\u001b[0m\u001b[1;33m=\u001b[0m\u001b[1;36m0.1\u001b[0m\u001b[1;33m)\u001b[0m\u001b[1;33m\u001b[0m\u001b[1;33m\u001b[0m\u001b[0m\n\u001b[0m",
      "\u001b[1;32m~\\anaconda3\\lib\\site-packages\\tensorflow\\python\\keras\\engine\\training.py\u001b[0m in \u001b[0;36mfit\u001b[1;34m(self, x, y, batch_size, epochs, verbose, callbacks, validation_split, validation_data, shuffle, class_weight, sample_weight, initial_epoch, steps_per_epoch, validation_steps, validation_batch_size, validation_freq, max_queue_size, workers, use_multiprocessing)\u001b[0m\n\u001b[0;32m   1098\u001b[0m                 _r=1):\n\u001b[0;32m   1099\u001b[0m               \u001b[0mcallbacks\u001b[0m\u001b[1;33m.\u001b[0m\u001b[0mon_train_batch_begin\u001b[0m\u001b[1;33m(\u001b[0m\u001b[0mstep\u001b[0m\u001b[1;33m)\u001b[0m\u001b[1;33m\u001b[0m\u001b[1;33m\u001b[0m\u001b[0m\n\u001b[1;32m-> 1100\u001b[1;33m               \u001b[0mtmp_logs\u001b[0m \u001b[1;33m=\u001b[0m \u001b[0mself\u001b[0m\u001b[1;33m.\u001b[0m\u001b[0mtrain_function\u001b[0m\u001b[1;33m(\u001b[0m\u001b[0miterator\u001b[0m\u001b[1;33m)\u001b[0m\u001b[1;33m\u001b[0m\u001b[1;33m\u001b[0m\u001b[0m\n\u001b[0m\u001b[0;32m   1101\u001b[0m               \u001b[1;32mif\u001b[0m \u001b[0mdata_handler\u001b[0m\u001b[1;33m.\u001b[0m\u001b[0mshould_sync\u001b[0m\u001b[1;33m:\u001b[0m\u001b[1;33m\u001b[0m\u001b[1;33m\u001b[0m\u001b[0m\n\u001b[0;32m   1102\u001b[0m                 \u001b[0mcontext\u001b[0m\u001b[1;33m.\u001b[0m\u001b[0masync_wait\u001b[0m\u001b[1;33m(\u001b[0m\u001b[1;33m)\u001b[0m\u001b[1;33m\u001b[0m\u001b[1;33m\u001b[0m\u001b[0m\n",
      "\u001b[1;32m~\\anaconda3\\lib\\site-packages\\tensorflow\\python\\eager\\def_function.py\u001b[0m in \u001b[0;36m__call__\u001b[1;34m(self, *args, **kwds)\u001b[0m\n\u001b[0;32m    826\u001b[0m     \u001b[0mtracing_count\u001b[0m \u001b[1;33m=\u001b[0m \u001b[0mself\u001b[0m\u001b[1;33m.\u001b[0m\u001b[0mexperimental_get_tracing_count\u001b[0m\u001b[1;33m(\u001b[0m\u001b[1;33m)\u001b[0m\u001b[1;33m\u001b[0m\u001b[1;33m\u001b[0m\u001b[0m\n\u001b[0;32m    827\u001b[0m     \u001b[1;32mwith\u001b[0m \u001b[0mtrace\u001b[0m\u001b[1;33m.\u001b[0m\u001b[0mTrace\u001b[0m\u001b[1;33m(\u001b[0m\u001b[0mself\u001b[0m\u001b[1;33m.\u001b[0m\u001b[0m_name\u001b[0m\u001b[1;33m)\u001b[0m \u001b[1;32mas\u001b[0m \u001b[0mtm\u001b[0m\u001b[1;33m:\u001b[0m\u001b[1;33m\u001b[0m\u001b[1;33m\u001b[0m\u001b[0m\n\u001b[1;32m--> 828\u001b[1;33m       \u001b[0mresult\u001b[0m \u001b[1;33m=\u001b[0m \u001b[0mself\u001b[0m\u001b[1;33m.\u001b[0m\u001b[0m_call\u001b[0m\u001b[1;33m(\u001b[0m\u001b[1;33m*\u001b[0m\u001b[0margs\u001b[0m\u001b[1;33m,\u001b[0m \u001b[1;33m**\u001b[0m\u001b[0mkwds\u001b[0m\u001b[1;33m)\u001b[0m\u001b[1;33m\u001b[0m\u001b[1;33m\u001b[0m\u001b[0m\n\u001b[0m\u001b[0;32m    829\u001b[0m       \u001b[0mcompiler\u001b[0m \u001b[1;33m=\u001b[0m \u001b[1;34m\"xla\"\u001b[0m \u001b[1;32mif\u001b[0m \u001b[0mself\u001b[0m\u001b[1;33m.\u001b[0m\u001b[0m_experimental_compile\u001b[0m \u001b[1;32melse\u001b[0m \u001b[1;34m\"nonXla\"\u001b[0m\u001b[1;33m\u001b[0m\u001b[1;33m\u001b[0m\u001b[0m\n\u001b[0;32m    830\u001b[0m       \u001b[0mnew_tracing_count\u001b[0m \u001b[1;33m=\u001b[0m \u001b[0mself\u001b[0m\u001b[1;33m.\u001b[0m\u001b[0mexperimental_get_tracing_count\u001b[0m\u001b[1;33m(\u001b[0m\u001b[1;33m)\u001b[0m\u001b[1;33m\u001b[0m\u001b[1;33m\u001b[0m\u001b[0m\n",
      "\u001b[1;32m~\\anaconda3\\lib\\site-packages\\tensorflow\\python\\eager\\def_function.py\u001b[0m in \u001b[0;36m_call\u001b[1;34m(self, *args, **kwds)\u001b[0m\n\u001b[0;32m    853\u001b[0m       \u001b[1;31m# In this case we have created variables on the first call, so we run the\u001b[0m\u001b[1;33m\u001b[0m\u001b[1;33m\u001b[0m\u001b[1;33m\u001b[0m\u001b[0m\n\u001b[0;32m    854\u001b[0m       \u001b[1;31m# defunned version which is guaranteed to never create variables.\u001b[0m\u001b[1;33m\u001b[0m\u001b[1;33m\u001b[0m\u001b[1;33m\u001b[0m\u001b[0m\n\u001b[1;32m--> 855\u001b[1;33m       \u001b[1;32mreturn\u001b[0m \u001b[0mself\u001b[0m\u001b[1;33m.\u001b[0m\u001b[0m_stateless_fn\u001b[0m\u001b[1;33m(\u001b[0m\u001b[1;33m*\u001b[0m\u001b[0margs\u001b[0m\u001b[1;33m,\u001b[0m \u001b[1;33m**\u001b[0m\u001b[0mkwds\u001b[0m\u001b[1;33m)\u001b[0m  \u001b[1;31m# pylint: disable=not-callable\u001b[0m\u001b[1;33m\u001b[0m\u001b[1;33m\u001b[0m\u001b[0m\n\u001b[0m\u001b[0;32m    856\u001b[0m     \u001b[1;32melif\u001b[0m \u001b[0mself\u001b[0m\u001b[1;33m.\u001b[0m\u001b[0m_stateful_fn\u001b[0m \u001b[1;32mis\u001b[0m \u001b[1;32mnot\u001b[0m \u001b[1;32mNone\u001b[0m\u001b[1;33m:\u001b[0m\u001b[1;33m\u001b[0m\u001b[1;33m\u001b[0m\u001b[0m\n\u001b[0;32m    857\u001b[0m       \u001b[1;31m# Release the lock early so that multiple threads can perform the call\u001b[0m\u001b[1;33m\u001b[0m\u001b[1;33m\u001b[0m\u001b[1;33m\u001b[0m\u001b[0m\n",
      "\u001b[1;32m~\\anaconda3\\lib\\site-packages\\tensorflow\\python\\eager\\function.py\u001b[0m in \u001b[0;36m__call__\u001b[1;34m(self, *args, **kwargs)\u001b[0m\n\u001b[0;32m   2940\u001b[0m       (graph_function,\n\u001b[0;32m   2941\u001b[0m        filtered_flat_args) = self._maybe_define_function(args, kwargs)\n\u001b[1;32m-> 2942\u001b[1;33m     return graph_function._call_flat(\n\u001b[0m\u001b[0;32m   2943\u001b[0m         filtered_flat_args, captured_inputs=graph_function.captured_inputs)  # pylint: disable=protected-access\n\u001b[0;32m   2944\u001b[0m \u001b[1;33m\u001b[0m\u001b[0m\n",
      "\u001b[1;32m~\\anaconda3\\lib\\site-packages\\tensorflow\\python\\eager\\function.py\u001b[0m in \u001b[0;36m_call_flat\u001b[1;34m(self, args, captured_inputs, cancellation_manager)\u001b[0m\n\u001b[0;32m   1916\u001b[0m         and executing_eagerly):\n\u001b[0;32m   1917\u001b[0m       \u001b[1;31m# No tape is watching; skip to running the function.\u001b[0m\u001b[1;33m\u001b[0m\u001b[1;33m\u001b[0m\u001b[1;33m\u001b[0m\u001b[0m\n\u001b[1;32m-> 1918\u001b[1;33m       return self._build_call_outputs(self._inference_function.call(\n\u001b[0m\u001b[0;32m   1919\u001b[0m           ctx, args, cancellation_manager=cancellation_manager))\n\u001b[0;32m   1920\u001b[0m     forward_backward = self._select_forward_and_backward_functions(\n",
      "\u001b[1;32m~\\anaconda3\\lib\\site-packages\\tensorflow\\python\\eager\\function.py\u001b[0m in \u001b[0;36mcall\u001b[1;34m(self, ctx, args, cancellation_manager)\u001b[0m\n\u001b[0;32m    553\u001b[0m       \u001b[1;32mwith\u001b[0m \u001b[0m_InterpolateFunctionError\u001b[0m\u001b[1;33m(\u001b[0m\u001b[0mself\u001b[0m\u001b[1;33m)\u001b[0m\u001b[1;33m:\u001b[0m\u001b[1;33m\u001b[0m\u001b[1;33m\u001b[0m\u001b[0m\n\u001b[0;32m    554\u001b[0m         \u001b[1;32mif\u001b[0m \u001b[0mcancellation_manager\u001b[0m \u001b[1;32mis\u001b[0m \u001b[1;32mNone\u001b[0m\u001b[1;33m:\u001b[0m\u001b[1;33m\u001b[0m\u001b[1;33m\u001b[0m\u001b[0m\n\u001b[1;32m--> 555\u001b[1;33m           outputs = execute.execute(\n\u001b[0m\u001b[0;32m    556\u001b[0m               \u001b[0mstr\u001b[0m\u001b[1;33m(\u001b[0m\u001b[0mself\u001b[0m\u001b[1;33m.\u001b[0m\u001b[0msignature\u001b[0m\u001b[1;33m.\u001b[0m\u001b[0mname\u001b[0m\u001b[1;33m)\u001b[0m\u001b[1;33m,\u001b[0m\u001b[1;33m\u001b[0m\u001b[1;33m\u001b[0m\u001b[0m\n\u001b[0;32m    557\u001b[0m               \u001b[0mnum_outputs\u001b[0m\u001b[1;33m=\u001b[0m\u001b[0mself\u001b[0m\u001b[1;33m.\u001b[0m\u001b[0m_num_outputs\u001b[0m\u001b[1;33m,\u001b[0m\u001b[1;33m\u001b[0m\u001b[1;33m\u001b[0m\u001b[0m\n",
      "\u001b[1;32m~\\anaconda3\\lib\\site-packages\\tensorflow\\python\\eager\\execute.py\u001b[0m in \u001b[0;36mquick_execute\u001b[1;34m(op_name, num_outputs, inputs, attrs, ctx, name)\u001b[0m\n\u001b[0;32m     57\u001b[0m   \u001b[1;32mtry\u001b[0m\u001b[1;33m:\u001b[0m\u001b[1;33m\u001b[0m\u001b[1;33m\u001b[0m\u001b[0m\n\u001b[0;32m     58\u001b[0m     \u001b[0mctx\u001b[0m\u001b[1;33m.\u001b[0m\u001b[0mensure_initialized\u001b[0m\u001b[1;33m(\u001b[0m\u001b[1;33m)\u001b[0m\u001b[1;33m\u001b[0m\u001b[1;33m\u001b[0m\u001b[0m\n\u001b[1;32m---> 59\u001b[1;33m     tensors = pywrap_tfe.TFE_Py_Execute(ctx._handle, device_name, op_name,\n\u001b[0m\u001b[0;32m     60\u001b[0m                                         inputs, attrs, num_outputs)\n\u001b[0;32m     61\u001b[0m   \u001b[1;32mexcept\u001b[0m \u001b[0mcore\u001b[0m\u001b[1;33m.\u001b[0m\u001b[0m_NotOkStatusException\u001b[0m \u001b[1;32mas\u001b[0m \u001b[0me\u001b[0m\u001b[1;33m:\u001b[0m\u001b[1;33m\u001b[0m\u001b[1;33m\u001b[0m\u001b[0m\n",
      "\u001b[1;31mKeyboardInterrupt\u001b[0m: "
     ]
    }
   ],
   "source": [
    "model.compile(optimizer = 'Adam', loss = 'mae', metrics = ['accuracy'])\n",
    "res = model.fit(X, y, epochs=800, batch_size=32, validation_split=0.1)"
   ]
  },
  {
   "cell_type": "code",
   "execution_count": 15,
   "metadata": {},
   "outputs": [
    {
     "data": {
      "image/png": "[encoded data removed]",
      "text/plain": [
       "<Figure size 864x288 with 1 Axes>"
      ]
     },
     "metadata": {},
     "output_type": "display_data"
    },
    {
     "data": {
      "image/png": "[encoded data removed]",
      "text/plain": [
       "<Figure size 864x288 with 1 Axes>"
      ]
     },
     "metadata": {},
     "output_type": "display_data"
    }
   ],
   "source": [
    "visualize_training_results(res)"
   ]
  },
  {
   "cell_type": "markdown",
   "metadata": {},
   "source": [
    "## Validating our Neural Network"
   ]
  },
  {
   "cell_type": "code",
   "execution_count": 11,
   "metadata": {},
   "outputs": [
    {
     "name": "stdout",
     "output_type": "stream",
     "text": [
      "Predicted Prices:\n",
      " [[9055.580848113912], [9048.275990968381], [9065.040692021128], [9046.77466368098], [9032.215046913174], [9023.99358347685], [9005.844194710875], [9019.687000136571], [9047.472586124286], [9041.039080921599]]\n",
      "\n",
      "Actual Prices:\n",
      " [[37345.121094], [36702.597656], [37334.398438], [35552.515625], [39097.859375], [40218.476563], [40406.269531], [38347.0625], [nan], [38036.703125]]\n"
     ]
    },
    {
     "data": {
      "image/png": "[encoded data removed]",
      "text/plain": [
       "<Figure size 432x288 with 1 Axes>"
      ]
     },
     "metadata": {},
     "output_type": "display_data"
    }
   ],
   "source": [
    "# Getting predictions by predicting from the last available X variable\n",
    "yhat = model.predict(X[-1].reshape(1, n_per_in, n_features)).tolist()[0]\n",
    "\n",
    "# Transforming values back to their normal prices\n",
    "yhat = scaler.inverse_transform(np.array(yhat).reshape(-1,1)).tolist()\n",
    "\n",
    "# Getting the actual values from the last available y variable which correspond to its respective X variable\n",
    "actual = scaler.inverse_transform(y[-1].reshape(-1,1))\n",
    "\n",
    "# Printing and plotting those predictions\n",
    "print(\"Predicted Prices:\\n\", yhat)\n",
    "plt.plot(yhat, label='Predicted')\n",
    "\n",
    "# Printing and plotting the actual values\n",
    "print(\"\\nActual Prices:\\n\", actual.tolist())\n",
    "plt.plot(actual.tolist(), label='Actual')\n",
    "\n",
    "plt.title(f\"Predicted vs Actual Closing Prices\")\n",
    "plt.ylabel(\"Price\")\n",
    "plt.legend()\n",
    "plt.savefig(\"BTC_validation.png\")\n",
    "plt.show()\n"
   ]
  },
  {
   "cell_type": "markdown",
   "metadata": {},
   "source": [
    "## Forecasting/Predicting with our RNN"
   ]
  },
  {
   "cell_type": "code",
   "execution_count": 12,
   "metadata": {},
   "outputs": [
    {
     "name": "stdout",
     "output_type": "stream",
     "text": [
      "            Close\n",
      "2021-06-18    NaN\n",
      "2021-06-19    NaN\n",
      "2021-06-20    NaN\n",
      "2021-06-21    NaN\n",
      "2021-06-22    NaN\n",
      "2021-06-23    NaN\n",
      "2021-06-24    NaN\n",
      "2021-06-25    NaN\n",
      "2021-06-26    NaN\n",
      "2021-06-27    NaN\n"
     ]
    },
    {
     "data": {
      "image/png": "[encoded data removed]",
      "text/plain": [
       "<Figure size 1152x432 with 1 Axes>"
      ]
     },
     "metadata": {},
     "output_type": "display_data"
    }
   ],
   "source": [
    "# Predicting off of y because it contains the most recent dates\n",
    "yhat = model.predict(np.array(df.tail(n_per_in)).reshape(1, n_per_in, n_features)).tolist()[0]\n",
    "\n",
    "# Transforming the predicted values back to their original prices\n",
    "yhat = scaler.inverse_transform(np.array(yhat).reshape(-1,1)).tolist()\n",
    "\n",
    "# Creating a DF of the predicted prices\n",
    "preds = pd.DataFrame(yhat, index=pd.date_range(start=df.index[-1], periods=len(yhat), freq=\"D\"), columns=df.columns)\n",
    "\n",
    "# Printing the predicted prices\n",
    "print(preds)\n",
    "\n",
    "# Number of periods back to visualize the actual values\n",
    "pers = 10\n",
    "\n",
    "# Transforming the actual values to their original price\n",
    "actual = pd.DataFrame(scaler.inverse_transform(df[[\"Close\"]].tail(pers)), index=df.Close.tail(pers).index, columns=df.columns).append(preds.head(1))\n",
    "\n",
    "# Plotting\n",
    "plt.figure(figsize=(16,6))\n",
    "plt.plot(actual, label=\"Actual Prices\")\n",
    "plt.plot(preds, label=\"Predicted Prices\")\n",
    "plt.ylabel(\"Price\")\n",
    "plt.xlabel(\"Dates\")\n",
    "plt.title(f\"Forecasting the next {len(yhat)} days\")\n",
    "plt.legend()\n",
    "plt.savefig(\"BTC_predictions.png\")\n",
    "plt.show()"
   ]
  },
  {
   "cell_type": "code",
   "execution_count": null,
   "metadata": {},
   "outputs": [],
   "source": []
  }
 ],
 "metadata": {
  "kernelspec": {
   "display_name": "Python 3",
   "language": "python",
   "name": "python3"
  },
  "language_info": {
   "codemirror_mode": {
    "name": "ipython",
    "version": 3
   },
   "file_extension": ".py",
   "mimetype": "text/x-python",
   "name": "python",
   "nbconvert_exporter": "python",
   "pygments_lexer": "ipython3",
   "version": "3.8.5"
  }
 },
 "nbformat": 4,
 "nbformat_minor": 4
}
